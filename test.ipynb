{
 "cells": [
  {
   "cell_type": "code",
   "execution_count": 1,
   "id": "692bb9a3-e4f8-4c32-89d6-bcc4335318cc",
   "metadata": {},
   "outputs": [],
   "source": [
    "import lantern_pinecone"
   ]
  },
  {
   "cell_type": "code",
   "execution_count": 2,
   "id": "6be85a1c-98af-494c-a0d8-f3f39532cb2c",
   "metadata": {},
   "outputs": [],
   "source": [
    "lantern_pinecone.init('postgres://varikmatevosyan@localhost:5432/testlive')"
   ]
  },
  {
   "cell_type": "code",
   "execution_count": 3,
   "id": "0418a9a0-3dec-44d0-b701-4cda7afd243f",
   "metadata": {},
   "outputs": [],
   "source": [
    "lantern_pinecone.delete_index('pinecone_test')"
   ]
  },
  {
   "cell_type": "code",
   "execution_count": 4,
   "id": "37e0beb6-c6c9-49fc-9d0c-92ffb9d8511a",
   "metadata": {},
   "outputs": [],
   "source": [
    "index = lantern_pinecone.create_index(\"pinecone_test\", 3, \"cosine\")"
   ]
  },
  {
   "cell_type": "code",
   "execution_count": 5,
   "id": "aae0fe0a-d1ab-4598-8726-620eba9d555e",
   "metadata": {},
   "outputs": [],
   "source": [
    "upsert_response = index.upsert(\n",
    "   vectors=[\n",
    "       {'id': \"vec1\", \"values\":[0.1, 0.2, 0.3], \"metadata\": {'genre': 'drama'}},\n",
    "       {'id': \"vec2\", \"values\":[0.2, 0.3, 0.4], \"metadata\": {'genre': 'action'}},\n",
    "   ]\n",
    ")\n"
   ]
  },
  {
   "cell_type": "code",
   "execution_count": 6,
   "id": "4fd2b162-8d70-4c68-b4a0-a32f10481fd7",
   "metadata": {},
   "outputs": [],
   "source": [
    "upsert_response = index.upsert(\n",
    "   vectors=[\n",
    "       {'id': \"vec3\", \"values\":[0.1, 0.2, 0.3], \"metadata\": {'genre': 'drama'}},\n",
    "       {'id': \"vec4\", \"values\":[0.2, 0.3, 0.4], \"metadata\": {'genre': 'action'}},\n",
    "   ],\n",
    "    namespace=\"test\"\n",
    ")"
   ]
  },
  {
   "cell_type": "code",
   "execution_count": 7,
   "id": "23d27136-1feb-4c31-8d57-0ee7471bef30",
   "metadata": {},
   "outputs": [
    {
     "name": "stdout",
     "output_type": "stream",
     "text": [
      "2\n"
     ]
    }
   ],
   "source": [
    "print(upsert_response)"
   ]
  },
  {
   "cell_type": "code",
   "execution_count": 8,
   "id": "0ce873f1-05e3-4b28-8ba1-42d08e6a3803",
   "metadata": {},
   "outputs": [
    {
     "data": {
      "text/plain": [
       "[]"
      ]
     },
     "execution_count": 8,
     "metadata": {},
     "output_type": "execute_result"
    }
   ],
   "source": [
    "index.query(top_k=10, include_values=True, include_metadata=True, id='vec2', namespace=\"test\")"
   ]
  },
  {
   "cell_type": "code",
   "execution_count": 9,
   "id": "a23767c9-ec0e-4ebc-a15a-ea207e4c60aa",
   "metadata": {},
   "outputs": [
    {
     "data": {
      "text/plain": [
       "[{'id': 'vec3',\n",
       "  'score': 0.99999988079071,\n",
       "  'values': [0.1, 0.2, 0.3],\n",
       "  'metadata': {'genre': 'drama'}},\n",
       " {'id': 'vec4',\n",
       "  'score': 0.9925832152,\n",
       "  'values': [0.2, 0.3, 0.4],\n",
       "  'metadata': {'genre': 'action'}}]"
      ]
     },
     "execution_count": 9,
     "metadata": {},
     "output_type": "execute_result"
    }
   ],
   "source": [
    "index.query(top_k=10, include_values=True, include_metadata=True, id='vec3', namespace=\"test\")"
   ]
  }
 ],
 "metadata": {
  "kernelspec": {
   "display_name": "Python 3 (ipykernel)",
   "language": "python",
   "name": "python3"
  },
  "language_info": {
   "codemirror_mode": {
    "name": "ipython",
    "version": 3
   },
   "file_extension": ".py",
   "mimetype": "text/x-python",
   "name": "python",
   "nbconvert_exporter": "python",
   "pygments_lexer": "ipython3",
   "version": "3.11.5"
  }
 },
 "nbformat": 4,
 "nbformat_minor": 5
}
