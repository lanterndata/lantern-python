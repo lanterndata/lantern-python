{
 "cells": [
  {
   "cell_type": "markdown",
   "id": "43f9ce31",
   "metadata": {
    "id": "43f9ce31"
   },
   "source": [
    "[![Open In Colab](https://colab.research.google.com/assets/colab-badge.svg)](https://colab.research.google.com/github/pinecone-io/examples/blob/master/docs/quick-tour/namespacing.ipynb) [![Open nbviewer](https://raw.githubusercontent.com/pinecone-io/examples/master/assets/nbviewer-shield.svg)](https://nbviewer.org/github/pinecone-io/examples/blob/master/docs/quick-tour/namespacing.ipynb)"
   ]
  },
  {
   "cell_type": "markdown",
   "id": "artificial-devil",
   "metadata": {
    "id": "artificial-devil",
    "papermill": {
     "duration": 0.037678,
     "end_time": "2021-04-16T15:12:08.268491",
     "exception": false,
     "start_time": "2021-04-16T15:12:08.230813",
     "status": "completed"
    },
    "tags": []
   },
   "source": [
    "# Namespacing with Pinecone\n",
    "\n",
    "Namespacing is a neat feature in a Pinecone service that allows you to partition your data in an index. When you read from or write to a namespace in an index, you only access data in that particular namespace. In other words, data from two namespaces may have the same ids but different values. Namespacing is useful when you want to reuse the same data processing pipeline but query only a subset of your data.\n",
    "For example, when you are building a movie recommender system, you could use namespacing to separate recommendations by genre. Another way is to use metadata instead of namespaces for recommendations by genre."
   ]
  },
  {
   "cell_type": "markdown",
   "id": "atmospheric-wayne",
   "metadata": {
    "id": "atmospheric-wayne",
    "papermill": {
     "duration": 0.028014,
     "end_time": "2021-04-16T15:12:08.327699",
     "exception": false,
     "start_time": "2021-04-16T15:12:08.299685",
     "status": "completed"
    },
    "tags": []
   },
   "source": [
    "## Prerequisites\n",
    "\n",
    "A paid Pinecone account as namespaces are not available on the free starter tier."
   ]
  },
  {
   "cell_type": "markdown",
   "id": "emotional-lyric",
   "metadata": {
    "id": "emotional-lyric",
    "papermill": {
     "duration": 0.027173,
     "end_time": "2021-04-16T15:12:08.383073",
     "exception": false,
     "start_time": "2021-04-16T15:12:08.355900",
     "status": "completed"
    },
    "tags": []
   },
   "source": [
    "Install dependencies."
   ]
  },
  {
   "cell_type": "markdown",
   "id": "moderate-distributor",
   "metadata": {
    "id": "moderate-distributor",
    "papermill": {
     "duration": 0.026427,
     "end_time": "2021-04-16T15:12:24.354705",
     "exception": false,
     "start_time": "2021-04-16T15:12:24.328278",
     "status": "completed"
    },
    "tags": []
   },
   "source": [
    "Set up Pinecone."
   ]
  },
  {
   "cell_type": "code",
   "execution_count": null,
   "id": "838c14db-0ef6-49c2-946f-469920fb4e00",
   "metadata": {},
   "outputs": [],
   "source": [
    "import os\n",
    "import lantern_pinecone as pinecone\n",
    "\n",
    "LANTERN_DB_URL = os.environ.get('LANTERN_DB_URL') or 'postgres://postgres@localhost:5432'\n",
    "pinecone.init(LANTERN_DB_URL)"
   ]
  },
  {
   "cell_type": "markdown",
   "id": "yellow-airline",
   "metadata": {
    "id": "yellow-airline",
    "papermill": {
     "duration": 0.027283,
     "end_time": "2021-04-16T15:12:25.367243",
     "exception": false,
     "start_time": "2021-04-16T15:12:25.339960",
     "status": "completed"
    },
    "tags": []
   },
   "source": [
    "## Creating the Index"
   ]
  },
  {
   "cell_type": "code",
   "execution_count": 2,
   "id": "UYgB1gef1Utk",
   "metadata": {
    "id": "UYgB1gef1Utk",
    "tags": [
     "parameters"
    ]
   },
   "outputs": [],
   "source": [
    "index_name = \"pinecone-namespacing\""
   ]
  },
  {
   "cell_type": "code",
   "execution_count": 3,
   "id": "balanced-housing",
   "metadata": {
    "colab": {
     "base_uri": "https://localhost:8080/"
    },
    "id": "balanced-housing",
    "outputId": "8a0bcad7-ed5b-4fd5-897e-1534497aa278",
    "papermill": {
     "duration": 16.057888,
     "end_time": "2021-04-16T15:12:41.454202",
     "exception": false,
     "start_time": "2021-04-16T15:12:25.396314",
     "status": "completed"
    },
    "tags": []
   },
   "outputs": [
    {
     "data": {
      "text/plain": [
       "['pinecone-namespacing']"
      ]
     },
     "execution_count": 3,
     "metadata": {},
     "output_type": "execute_result"
    }
   ],
   "source": [
    "import time\n",
    "\n",
    "# Delete index if exists\n",
    "if index_name in pinecone.list_indexes():\n",
    "    pinecone.delete_index(index_name)\n",
    "\n",
    "# Create an index\n",
    "pinecone.create_index(name=index_name, dimension=2, metric=\"euclidean\")\n",
    "\n",
    "# wait for index to be ready before connecting\n",
    "while not pinecone.describe_index(index_name).status['ready']:\n",
    "    time.sleep(1)\n",
    "\n",
    "pinecone.list_indexes()"
   ]
  },
  {
   "cell_type": "code",
   "execution_count": 4,
   "id": "blvbpzBAxPJO",
   "metadata": {
    "id": "blvbpzBAxPJO",
    "papermill": {
     "duration": 0.869129,
     "end_time": "2021-04-16T15:12:42.358177",
     "exception": false,
     "start_time": "2021-04-16T15:12:41.489048",
     "status": "completed"
    },
    "tags": []
   },
   "outputs": [],
   "source": [
    "# Connect to the index\n",
    "index = pinecone.Index(index_name=index_name)"
   ]
  },
  {
   "cell_type": "markdown",
   "id": "improved-season",
   "metadata": {
    "id": "improved-season",
    "papermill": {
     "duration": 0.038949,
     "end_time": "2021-04-16T15:12:42.437637",
     "exception": false,
     "start_time": "2021-04-16T15:12:42.398688",
     "status": "completed"
    },
    "tags": []
   },
   "source": [
    "### Generate movie data"
   ]
  },
  {
   "cell_type": "code",
   "execution_count": 5,
   "id": "disciplinary-district",
   "metadata": {
    "colab": {
     "base_uri": "https://localhost:8080/",
     "height": 175
    },
    "id": "disciplinary-district",
    "outputId": "25708b6c-92c4-4fd0-be92-dcd67d75a48d",
    "papermill": {
     "duration": 0.24115,
     "end_time": "2021-04-16T15:12:42.715499",
     "exception": false,
     "start_time": "2021-04-16T15:12:42.474349",
     "status": "completed"
    },
    "tags": []
   },
   "outputs": [
    {
     "data": {
      "text/html": [
       "<div>\n",
       "<style scoped>\n",
       "    .dataframe tbody tr th:only-of-type {\n",
       "        vertical-align: middle;\n",
       "    }\n",
       "\n",
       "    .dataframe tbody tr th {\n",
       "        vertical-align: top;\n",
       "    }\n",
       "\n",
       "    .dataframe thead th {\n",
       "        text-align: right;\n",
       "    }\n",
       "</style>\n",
       "<table border=\"1\" class=\"dataframe\">\n",
       "  <thead>\n",
       "    <tr style=\"text-align: right;\">\n",
       "      <th></th>\n",
       "      <th>id</th>\n",
       "      <th>vector</th>\n",
       "    </tr>\n",
       "  </thead>\n",
       "  <tbody>\n",
       "    <tr>\n",
       "      <th>0</th>\n",
       "      <td>Wall-E</td>\n",
       "      <td>[1.0, 1.0]</td>\n",
       "    </tr>\n",
       "    <tr>\n",
       "      <th>1</th>\n",
       "      <td>Up</td>\n",
       "      <td>[2.0, 2.0]</td>\n",
       "    </tr>\n",
       "    <tr>\n",
       "      <th>2</th>\n",
       "      <td>Ratatouille</td>\n",
       "      <td>[3.0, 3.0]</td>\n",
       "    </tr>\n",
       "    <tr>\n",
       "      <th>3</th>\n",
       "      <td>Toy Story</td>\n",
       "      <td>[4.0, 4.0]</td>\n",
       "    </tr>\n",
       "  </tbody>\n",
       "</table>\n",
       "</div>"
      ],
      "text/plain": [
       "            id      vector\n",
       "0       Wall-E  [1.0, 1.0]\n",
       "1           Up  [2.0, 2.0]\n",
       "2  Ratatouille  [3.0, 3.0]\n",
       "3    Toy Story  [4.0, 4.0]"
      ]
     },
     "execution_count": 5,
     "metadata": {},
     "output_type": "execute_result"
    }
   ],
   "source": [
    "# Generate some data\n",
    "import pandas as pd\n",
    "\n",
    "df = pd.DataFrame()\n",
    "df[\"id\"] = [\"Wall-E\", \"Up\", \"Ratatouille\", \"Toy Story\"]\n",
    "df[\"vector\"] = [[1., 1.], [2., 2.], [3., 3.], [4., 4.]]\n",
    "df"
   ]
  },
  {
   "cell_type": "markdown",
   "id": "leading-flesh",
   "metadata": {
    "id": "leading-flesh",
    "papermill": {
     "duration": 0.030901,
     "end_time": "2021-04-16T15:12:42.777653",
     "exception": false,
     "start_time": "2021-04-16T15:12:42.746752",
     "status": "completed"
    },
    "tags": []
   },
   "source": [
    "### Insert vectors without specifying a namespace"
   ]
  },
  {
   "cell_type": "code",
   "execution_count": 6,
   "id": "nearby-skiing",
   "metadata": {
    "colab": {
     "base_uri": "https://localhost:8080/"
    },
    "id": "nearby-skiing",
    "outputId": "db1c8819-86bd-49db-fadb-3f175938c1a1",
    "papermill": {
     "duration": 1.65623,
     "end_time": "2021-04-16T15:12:44.464926",
     "exception": false,
     "start_time": "2021-04-16T15:12:42.808696",
     "status": "completed"
    },
    "tags": []
   },
   "outputs": [
    {
     "data": {
      "text/plain": [
       "{'dimensions': 2,\n",
       " 'index_fullness': 1.0,\n",
       " 'total_count': 4,\n",
       " 'namespaces': {'': {'vector_count': 4}}}"
      ]
     },
     "execution_count": 6,
     "metadata": {},
     "output_type": "execute_result"
    }
   ],
   "source": [
    "# Insert vectors without specifying a namespace\n",
    "index.upsert(vectors=zip(df.id, df.vector))\n",
    "index.describe_index_stats()"
   ]
  },
  {
   "cell_type": "markdown",
   "id": "large-tunisia",
   "metadata": {
    "id": "large-tunisia",
    "papermill": {
     "duration": 0.033445,
     "end_time": "2021-04-16T15:12:44.537290",
     "exception": false,
     "start_time": "2021-04-16T15:12:44.503845",
     "status": "completed"
    },
    "tags": []
   },
   "source": [
    "### Insert vectors into a namespace"
   ]
  },
  {
   "cell_type": "code",
   "execution_count": 7,
   "id": "excellent-channel",
   "metadata": {
    "colab": {
     "base_uri": "https://localhost:8080/",
     "height": 112
    },
    "id": "excellent-channel",
    "outputId": "7d790f07-b893-4384-abf6-78a7fe5bbad2",
    "papermill": {
     "duration": 0.043725,
     "end_time": "2021-04-16T15:12:44.612991",
     "exception": false,
     "start_time": "2021-04-16T15:12:44.569266",
     "status": "completed"
    },
    "tags": []
   },
   "outputs": [
    {
     "data": {
      "text/html": [
       "<div>\n",
       "<style scoped>\n",
       "    .dataframe tbody tr th:only-of-type {\n",
       "        vertical-align: middle;\n",
       "    }\n",
       "\n",
       "    .dataframe tbody tr th {\n",
       "        vertical-align: top;\n",
       "    }\n",
       "\n",
       "    .dataframe thead th {\n",
       "        text-align: right;\n",
       "    }\n",
       "</style>\n",
       "<table border=\"1\" class=\"dataframe\">\n",
       "  <thead>\n",
       "    <tr style=\"text-align: right;\">\n",
       "      <th></th>\n",
       "      <th>id</th>\n",
       "      <th>vector</th>\n",
       "    </tr>\n",
       "  </thead>\n",
       "  <tbody>\n",
       "    <tr>\n",
       "      <th>0</th>\n",
       "      <td>Wall-E</td>\n",
       "      <td>[1.0, 1.0]</td>\n",
       "    </tr>\n",
       "    <tr>\n",
       "      <th>2</th>\n",
       "      <td>Ratatouille</td>\n",
       "      <td>[3.0, 3.0]</td>\n",
       "    </tr>\n",
       "  </tbody>\n",
       "</table>\n",
       "</div>"
      ],
      "text/plain": [
       "            id      vector\n",
       "0       Wall-E  [1.0, 1.0]\n",
       "2  Ratatouille  [3.0, 3.0]"
      ]
     },
     "execution_count": 7,
     "metadata": {},
     "output_type": "execute_result"
    }
   ],
   "source": [
    "romantic_comedies = [\"Wall-E\", \"Ratatouille\"]\n",
    "romcom_df = df[df.id.isin(romantic_comedies)]\n",
    "romcom_df"
   ]
  },
  {
   "cell_type": "code",
   "execution_count": 8,
   "id": "registered-eagle",
   "metadata": {
    "colab": {
     "base_uri": "https://localhost:8080/"
    },
    "id": "registered-eagle",
    "outputId": "6a57ed6b-43cb-49f0-b85e-917e4a5869d2",
    "papermill": {
     "duration": 0.244898,
     "end_time": "2021-04-16T15:12:44.891970",
     "exception": false,
     "start_time": "2021-04-16T15:12:44.647072",
     "status": "completed"
    },
    "tags": []
   },
   "outputs": [
    {
     "data": {
      "text/plain": [
       "{'dimensions': 2,\n",
       " 'index_fullness': 1.0,\n",
       " 'total_count': 6,\n",
       " 'namespaces': {'': {'vector_count': 4},\n",
       "  'romantic-comedy': {'vector_count': 2}}}"
      ]
     },
     "execution_count": 8,
     "metadata": {},
     "output_type": "execute_result"
    }
   ],
   "source": [
    "# Insert vectors into a namespace\n",
    "index.upsert(vectors=zip(romcom_df.id, romcom_df.vector), namespace=\"romantic-comedy\")\n",
    "index.describe_index_stats()"
   ]
  },
  {
   "cell_type": "markdown",
   "id": "eight-sixth",
   "metadata": {
    "id": "eight-sixth",
    "papermill": {
     "duration": 0.032846,
     "end_time": "2021-04-16T15:12:44.963008",
     "exception": false,
     "start_time": "2021-04-16T15:12:44.930162",
     "status": "completed"
    },
    "tags": []
   },
   "source": [
    "### Query top-3 results, without a namespace"
   ]
  },
  {
   "cell_type": "code",
   "execution_count": 9,
   "id": "timely-allen",
   "metadata": {
    "colab": {
     "base_uri": "https://localhost:8080/"
    },
    "id": "timely-allen",
    "outputId": "3b1d65b7-4809-4c5e-db23-1a44d2fc8079",
    "papermill": {
     "duration": 0.152593,
     "end_time": "2021-04-16T15:12:45.148326",
     "exception": false,
     "start_time": "2021-04-16T15:12:44.995733",
     "status": "completed"
    },
    "tags": []
   },
   "outputs": [
    {
     "data": {
      "text/plain": [
       "{'namespace': '',\n",
       " 'matches': [{'id': 'Wall-E', 'score': 0.0, 'values': None, 'metadata': None},\n",
       "  {'id': 'Up', 'score': 2.0, 'values': None, 'metadata': None},\n",
       "  {'id': 'Ratatouille', 'score': 8.0, 'values': None, 'metadata': None}]}"
      ]
     },
     "execution_count": 9,
     "metadata": {},
     "output_type": "execute_result"
    }
   ],
   "source": [
    "query_results = index.query(df[df.id == \"Wall-E\"].vector[0], top_k=3)\n",
    "query_results"
   ]
  },
  {
   "cell_type": "markdown",
   "id": "arabic-shooting",
   "metadata": {
    "id": "arabic-shooting",
    "papermill": {
     "duration": 0.034931,
     "end_time": "2021-04-16T15:12:45.223865",
     "exception": false,
     "start_time": "2021-04-16T15:12:45.188934",
     "status": "completed"
    },
    "tags": []
   },
   "source": [
    "### Query top-3 results, with a namespace\n",
    "\n",
    "We should expect to see only romantic comedies in the query results."
   ]
  },
  {
   "cell_type": "code",
   "execution_count": 10,
   "id": "stuck-hardware",
   "metadata": {
    "colab": {
     "base_uri": "https://localhost:8080/"
    },
    "id": "stuck-hardware",
    "outputId": "fe37ce47-ace9-4835-9c2a-5f245ddfb441",
    "papermill": {
     "duration": 0.151954,
     "end_time": "2021-04-16T15:12:45.412130",
     "exception": false,
     "start_time": "2021-04-16T15:12:45.260176",
     "status": "completed"
    },
    "tags": []
   },
   "outputs": [
    {
     "data": {
      "text/plain": [
       "{'namespace': 'romantic-comedy',\n",
       " 'matches': [{'id': 'Wall-E', 'score': 0.0, 'values': None, 'metadata': None},\n",
       "  {'id': 'Ratatouille', 'score': 8.0, 'values': None, 'metadata': None}]}"
      ]
     },
     "execution_count": 10,
     "metadata": {},
     "output_type": "execute_result"
    }
   ],
   "source": [
    "query_results = index.query(\n",
    "    df[df.id == \"Wall-E\"].vector[0], top_k=3, namespace=\"romantic-comedy\"\n",
    ")\n",
    "query_results"
   ]
  },
  {
   "cell_type": "markdown",
   "id": "geological-competition",
   "metadata": {
    "id": "geological-competition",
    "papermill": {
     "duration": 0.035328,
     "end_time": "2021-04-16T15:12:45.490265",
     "exception": false,
     "start_time": "2021-04-16T15:12:45.454937",
     "status": "completed"
    },
    "tags": []
   },
   "source": [
    "### Delete the index"
   ]
  },
  {
   "cell_type": "code",
   "execution_count": 11,
   "id": "valuable-rehabilitation",
   "metadata": {
    "id": "valuable-rehabilitation",
    "papermill": {
     "duration": 12.613954,
     "end_time": "2021-04-16T15:12:58.139886",
     "exception": false,
     "start_time": "2021-04-16T15:12:45.525932",
     "status": "completed"
    },
    "tags": []
   },
   "outputs": [],
   "source": [
    "# delete the index\n",
    "pinecone.delete_index(index_name)"
   ]
  }
 ],
 "metadata": {
  "colab": {
   "provenance": []
  },
  "kernelspec": {
   "display_name": "Python 3 (ipykernel)",
   "language": "python",
   "name": "python3"
  },
  "language_info": {
   "codemirror_mode": {
    "name": "ipython",
    "version": 3
   },
   "file_extension": ".py",
   "mimetype": "text/x-python",
   "name": "python",
   "nbconvert_exporter": "python",
   "pygments_lexer": "ipython3",
   "version": "3.11.6"
  },
  "papermill": {
   "default_parameters": {},
   "duration": 51.37705,
   "end_time": "2021-04-16T15:12:58.702015",
   "environment_variables": {},
   "exception": null,
   "input_path": "/notebooks/quick_tour/namespacing.ipynb",
   "output_path": "/notebooks/tmp/quick_tour/namespacing.ipynb",
   "parameters": {},
   "start_time": "2021-04-16T15:12:07.324965",
   "version": "2.3.3"
  }
 },
 "nbformat": 4,
 "nbformat_minor": 5
}
