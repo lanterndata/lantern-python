{
 "cells": [
  {
   "attachments": {},
   "cell_type": "markdown",
   "id": "023d771c",
   "metadata": {
    "id": "023d771c"
   },
   "source": [
    "[![Open In Colab](https://colab.research.google.com/assets/colab-badge.svg)](https://colab.research.google.com/github/pinecone-io/examples/blob/master/docs/quick-tour/hello-pinecone.ipynb) [![Open nbviewer](https://raw.githubusercontent.com/pinecone-io/examples/master/assets/nbviewer-shield.svg)](https://nbviewer.org/github/pinecone-io/examples/blob/master/docs/quick-tour/hello-pinecone.ipynb)"
   ]
  },
  {
   "attachments": {},
   "cell_type": "markdown",
   "id": "conceptual-belfast",
   "metadata": {
    "id": "conceptual-belfast",
    "papermill": {
     "duration": 0.028714,
     "end_time": "2021-04-16T15:08:30.639231",
     "exception": false,
     "start_time": "2021-04-16T15:08:30.610517",
     "status": "completed"
    },
    "tags": []
   },
   "source": [
    "# Hello, Pinecone!\n",
    "\n",
    "This notebook will walk through the steps to get a simple Pinecone index up and running.\n"
   ]
  },
  {
   "attachments": {},
   "cell_type": "markdown",
   "id": "first-affairs",
   "metadata": {
    "id": "first-affairs",
    "papermill": {
     "duration": 0.025469,
     "end_time": "2021-04-16T15:08:30.690710",
     "exception": false,
     "start_time": "2021-04-16T15:08:30.665241",
     "status": "completed"
    },
    "tags": []
   },
   "source": [
    "## Prerequisites"
   ]
  },
  {
   "cell_type": "code",
   "execution_count": 2,
   "id": "labeled-specialist",
   "metadata": {
    "colab": {
     "base_uri": "https://localhost:8080/"
    },
    "id": "labeled-specialist",
    "outputId": "7d75712c-5f8b-45fd-f743-bdd50896e252",
    "papermill": {
     "duration": 0.344059,
     "end_time": "2021-04-16T15:08:49.297021",
     "exception": false,
     "start_time": "2021-04-16T15:08:48.952962",
     "status": "completed"
    },
    "tags": []
   },
   "outputs": [
    {
     "ename": "ImportError",
     "evalue": "attempted relative import with no known parent package",
     "output_type": "error",
     "traceback": [
      "\u001b[0;31m---------------------------------------------------------------------------\u001b[0m",
      "\u001b[0;31mImportError\u001b[0m                               Traceback (most recent call last)",
      "Cell \u001b[0;32mIn[2], line 2\u001b[0m\n\u001b[1;32m      1\u001b[0m \u001b[38;5;28;01mimport\u001b[39;00m \u001b[38;5;21;01mos\u001b[39;00m\n\u001b[0;32m----> 2\u001b[0m \u001b[38;5;28;01mfrom\u001b[39;00m \u001b[38;5;21;01m.\u001b[39;00m\u001b[38;5;21;01m.\u001b[39;00m\u001b[38;5;21;01m.\u001b[39;00m \u001b[38;5;28;01mimport\u001b[39;00m lantern_pinecone \u001b[38;5;28;01mas\u001b[39;00m pinecone\n\u001b[1;32m      4\u001b[0m LANTERN_DB_URL \u001b[38;5;241m=\u001b[39m os\u001b[38;5;241m.\u001b[39menviron\u001b[38;5;241m.\u001b[39mget(\u001b[38;5;124m'\u001b[39m\u001b[38;5;124mLANTERN_DB_URL\u001b[39m\u001b[38;5;124m'\u001b[39m) \u001b[38;5;129;01mor\u001b[39;00m \u001b[38;5;124m'\u001b[39m\u001b[38;5;124mpostgres://postgres@localhost:5432\u001b[39m\u001b[38;5;124m'\u001b[39m\n\u001b[1;32m      5\u001b[0m pinecone\u001b[38;5;241m.\u001b[39minit(LANTERN_DB_URL)\n",
      "\u001b[0;31mImportError\u001b[0m: attempted relative import with no known parent package"
     ]
    }
   ],
   "source": [
    "import os\n",
    "from ... import lantern_pinecone as pinecone\n",
    "\n",
    "LANTERN_DB_URL = os.environ.get('LANTERN_DB_URL') or 'postgres://postgres@localhost:5432'\n",
    "pinecone.init(LANTERN_DB_URL)"
   ]
  },
  {
   "attachments": {},
   "cell_type": "markdown",
   "id": "forbidden-indication",
   "metadata": {
    "id": "forbidden-indication",
    "papermill": {
     "duration": 0.020515,
     "end_time": "2021-04-16T15:08:49.925687",
     "exception": false,
     "start_time": "2021-04-16T15:08:49.905172",
     "status": "completed"
    },
    "tags": []
   },
   "source": [
    "## Pinecone quickstart\n",
    "\n",
    "With Pinecone you can create a vector index where you can store and search through your vectors."
   ]
  },
  {
   "cell_type": "code",
   "execution_count": null,
   "id": "EA2EcZsCoWS3",
   "metadata": {
    "id": "EA2EcZsCoWS3",
    "tags": [
     "parameters"
    ]
   },
   "outputs": [],
   "source": [
    "# Giving our index a name\n",
    "index_name = \"hello-pinecone\""
   ]
  },
  {
   "cell_type": "code",
   "execution_count": null,
   "id": "synthetic-essex",
   "metadata": {
    "id": "synthetic-essex",
    "papermill": {
     "duration": 0.446682,
     "end_time": "2021-04-16T15:08:50.393195",
     "exception": false,
     "start_time": "2021-04-16T15:08:49.946513",
     "status": "completed"
    },
    "tags": []
   },
   "outputs": [],
   "source": [
    "# Delete the index, if an index of the same name already exists\n",
    "if index_name in pinecone.list_indexes():\n",
    "    pinecone.delete_index(index_name)"
   ]
  },
  {
   "attachments": {},
   "cell_type": "markdown",
   "id": "94LRI2H8Ch2B",
   "metadata": {
    "id": "94LRI2H8Ch2B",
    "papermill": {
     "duration": 0.021764,
     "end_time": "2021-04-16T15:08:50.446400",
     "exception": false,
     "start_time": "2021-04-16T15:08:50.424636",
     "status": "completed"
    },
    "tags": []
   },
   "source": [
    "Creating a Pinecone Index."
   ]
  },
  {
   "cell_type": "code",
   "execution_count": null,
   "id": "4YwC8livCrn2",
   "metadata": {
    "id": "4YwC8livCrn2",
    "papermill": {
     "duration": 13.756687,
     "end_time": "2021-04-16T15:09:04.224466",
     "exception": false,
     "start_time": "2021-04-16T15:08:50.467779",
     "status": "completed"
    },
    "tags": []
   },
   "outputs": [],
   "source": [
    "import time\n",
    "\n",
    "dimensions = 3\n",
    "pinecone.create_index(name=index_name, dimension=dimensions, metric=\"cosine\")\n",
    "\n",
    "# wait for index to be ready before connecting\n",
    "while not pinecone.describe_index(index_name).status['ready']:\n",
    "    time.sleep(1)"
   ]
  },
  {
   "cell_type": "code",
   "execution_count": null,
   "id": "toy-VhU4LO_O",
   "metadata": {
    "id": "toy-VhU4LO_O",
    "papermill": {
     "duration": 0.846255,
     "end_time": "2021-04-16T15:09:05.097384",
     "exception": false,
     "start_time": "2021-04-16T15:09:04.251129",
     "status": "completed"
    },
    "tags": []
   },
   "outputs": [],
   "source": [
    "index = pinecone.Index(index_name=index_name)"
   ]
  },
  {
   "attachments": {},
   "cell_type": "markdown",
   "id": "j1F8SLx6C2HH",
   "metadata": {
    "id": "j1F8SLx6C2HH",
    "papermill": {
     "duration": 0.023037,
     "end_time": "2021-04-16T15:09:05.153116",
     "exception": false,
     "start_time": "2021-04-16T15:09:05.130079",
     "status": "completed"
    },
    "tags": []
   },
   "source": [
    "We have the index ready. Now we will create some simple vectors that will serve as our examples."
   ]
  },
  {
   "cell_type": "code",
   "execution_count": null,
   "id": "indirect-lafayette",
   "metadata": {
    "colab": {
     "base_uri": "https://localhost:8080/",
     "height": 112
    },
    "id": "indirect-lafayette",
    "outputId": "5bd49b0e-0187-4de2-e564-1d41c61b7bc9",
    "papermill": {
     "duration": 0.227373,
     "end_time": "2021-04-16T15:09:05.404700",
     "exception": false,
     "start_time": "2021-04-16T15:09:05.177327",
     "status": "completed"
    },
    "tags": []
   },
   "outputs": [],
   "source": [
    "import pandas as pd\n",
    "\n",
    "df = pd.DataFrame(\n",
    "    data={\n",
    "        \"id\": [\"A\", \"B\"],\n",
    "        \"vector\": [[1., 1., 1.], [1., 2., 3.]]\n",
    "    })\n",
    "df"
   ]
  },
  {
   "attachments": {},
   "cell_type": "markdown",
   "id": "oiJKXWxoDjhK",
   "metadata": {
    "id": "oiJKXWxoDjhK",
    "papermill": {
     "duration": 0.022968,
     "end_time": "2021-04-16T15:09:05.452054",
     "exception": false,
     "start_time": "2021-04-16T15:09:05.429086",
     "status": "completed"
    },
    "tags": []
   },
   "source": [
    "We perform upsert operations in our index. This call will insert a new vector in the index or update the vector if the id was already present."
   ]
  },
  {
   "cell_type": "code",
   "execution_count": null,
   "id": "6cef16ee-4c0d-4c4d-8131-a05b8a37ae0f",
   "metadata": {},
   "outputs": [],
   "source": [
    "print(list(zip(df.id, df.vector)))"
   ]
  },
  {
   "cell_type": "code",
   "execution_count": null,
   "id": "efficient-parliament",
   "metadata": {
    "colab": {
     "base_uri": "https://localhost:8080/"
    },
    "id": "efficient-parliament",
    "outputId": "0d9fbac4-4f8a-421e-95a9-0f441d2dcc16",
    "papermill": {
     "duration": 0.704503,
     "end_time": "2021-04-16T15:09:06.180549",
     "exception": false,
     "start_time": "2021-04-16T15:09:05.476046",
     "status": "completed"
    },
    "tags": []
   },
   "outputs": [],
   "source": [
    "index.upsert(vectors=zip(df.id, df.vector))  # insert vectors"
   ]
  },
  {
   "cell_type": "code",
   "execution_count": null,
   "id": "enclosed-performer",
   "metadata": {
    "colab": {
     "base_uri": "https://localhost:8080/"
    },
    "id": "enclosed-performer",
    "outputId": "5b67ec13-6863-4b1a-ac45-b57c569923ee",
    "papermill": {
     "duration": 0.140473,
     "end_time": "2021-04-16T15:09:06.352169",
     "exception": false,
     "start_time": "2021-04-16T15:09:06.211696",
     "status": "completed"
    },
    "tags": []
   },
   "outputs": [],
   "source": [
    "index.describe_index_stats()"
   ]
  },
  {
   "cell_type": "code",
   "execution_count": null,
   "id": "leading-shape",
   "metadata": {
    "colab": {
     "base_uri": "https://localhost:8080/"
    },
    "id": "leading-shape",
    "outputId": "fb512e95-ebf4-4e1d-b9c7-74afc3cdd0c2",
    "papermill": {
     "duration": 2.177493,
     "end_time": "2021-04-16T15:09:08.564594",
     "exception": false,
     "start_time": "2021-04-16T15:09:06.387101",
     "status": "completed"
    },
    "tags": []
   },
   "outputs": [],
   "source": [
    "index.query(\n",
    "    vector=[2., 2., 2.],\n",
    "    top_k=5,\n",
    "    include_values=True) # returns top_k matches"
   ]
  },
  {
   "attachments": {},
   "cell_type": "markdown",
   "id": "z5jcU5_SLMFC",
   "metadata": {
    "id": "z5jcU5_SLMFC",
    "papermill": {
     "duration": 0.035627,
     "end_time": "2021-04-16T15:09:08.629172",
     "exception": false,
     "start_time": "2021-04-16T15:09:08.593545",
     "status": "completed"
    },
    "tags": []
   },
   "source": [
    "## Delete the Index\n",
    "Delete the index once you are sure that you do not want to use it anymore. Once the index is deleted, you cannot use it again."
   ]
  },
  {
   "cell_type": "code",
   "execution_count": null,
   "id": "indian-broadcast",
   "metadata": {
    "id": "indian-broadcast",
    "papermill": {
     "duration": 12.505772,
     "end_time": "2021-04-16T15:09:21.171527",
     "exception": false,
     "start_time": "2021-04-16T15:09:08.665755",
     "status": "completed"
    },
    "tags": []
   },
   "outputs": [],
   "source": [
    "pinecone.delete_index(index_name)"
   ]
  }
 ],
 "metadata": {
  "colab": {
   "provenance": []
  },
  "kernelspec": {
   "display_name": "Python 3 (ipykernel)",
   "language": "python",
   "name": "python3"
  },
  "language_info": {
   "codemirror_mode": {
    "name": "ipython",
    "version": 3
   },
   "file_extension": ".py",
   "mimetype": "text/x-python",
   "name": "python",
   "nbconvert_exporter": "python",
   "pygments_lexer": "ipython3",
   "version": "3.11.5"
  },
  "papermill": {
   "default_parameters": {},
   "duration": 52.201461,
   "end_time": "2021-04-16T15:09:21.730976",
   "environment_variables": {},
   "exception": null,
   "input_path": "/notebooks/quick_tour/hello_pinecone.ipynb",
   "output_path": "/notebooks/tmp/quick_tour/hello_pinecone.ipynb",
   "parameters": {},
   "start_time": "2021-04-16T15:08:29.529515",
   "version": "2.3.3"
  }
 },
 "nbformat": 4,
 "nbformat_minor": 5
}
