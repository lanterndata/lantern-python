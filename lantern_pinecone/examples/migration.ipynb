{
 "cells": [
  {
   "cell_type": "code",
   "execution_count": 4,
   "id": "3ff2ba12-374d-40c5-8424-7df07dfd7d2d",
   "metadata": {},
   "outputs": [],
   "source": [
    "import lantern_pinecone\n",
    "from getpass import getpass"
   ]
  },
  {
   "cell_type": "code",
   "execution_count": 8,
   "id": "6be85a1c-98af-494c-a0d8-f3f39532cb2c",
   "metadata": {},
   "outputs": [],
   "source": [
    "lantern_pinecone.init('postgres://postgres@localhost:5432')"
   ]
  },
  {
   "cell_type": "code",
   "execution_count": 9,
   "id": "0418a9a0-3dec-44d0-b701-4cda7afd243f",
   "metadata": {},
   "outputs": [
    {
     "name": "stdin",
     "output_type": "stream",
     "text": [
      "Pinecone API Key ········\n"
     ]
    },
    {
     "name": "stdout",
     "output_type": "stream",
     "text": [
      "Copying data...\n"
     ]
    },
    {
     "name": "stderr",
     "output_type": "stream",
     "text": [
      "100%|████████████████████████████████████████████████████████████████████████████████| 100000/100000 [01:40<00:00, 991.38it/s]\n"
     ]
    },
    {
     "name": "stdout",
     "output_type": "stream",
     "text": [
      "Creating index...\n"
     ]
    }
   ],
   "source": [
    "pinecone_ids = list(map(lambda x: str(x), range(100000)))\n",
    "index = lantern_pinecone.create_from_pinecone(\n",
    "        api_key=getpass(\"Pinecone API Key\"), \n",
    "        environment=\"us-east-1-aws\",\n",
    "        index_name=\"sift100k\", \n",
    "        namespace=\"\",\n",
    "        pinecone_ids=pinecone_ids, \n",
    "        recreate=True)"
   ]
  },
  {
   "cell_type": "code",
   "execution_count": 4,
   "id": "aae0fe0a-d1ab-4598-8726-620eba9d555e",
   "metadata": {},
   "outputs": [
    {
     "data": {
      "text/plain": [
       "{'dimensions': 128,\n",
       " 'index_fullness': 1.0,\n",
       " 'total_count': 813449,\n",
       " 'namespaces': {'': {'vector_count': 813449}}}"
      ]
     },
     "execution_count": 4,
     "metadata": {},
     "output_type": "execute_result"
    }
   ],
   "source": [
    "index.describe_index_stats()"
   ]
  },
  {
   "cell_type": "code",
   "execution_count": 10,
   "id": "0ce873f1-05e3-4b28-8ba1-42d08e6a3803",
   "metadata": {},
   "outputs": [
    {
     "data": {
      "text/plain": [
       "{'namespace': '',\n",
       " 'matches': [{'id': '45500', 'score': 0.0, 'values': None, 'metadata': None},\n",
       "  {'id': '45381', 'score': 45508.0, 'values': None, 'metadata': None},\n",
       "  {'id': '45969', 'score': 56734.0, 'values': None, 'metadata': None},\n",
       "  {'id': '67814', 'score': 64232.0, 'values': None, 'metadata': None},\n",
       "  {'id': '66629', 'score': 71535.0, 'values': None, 'metadata': None},\n",
       "  {'id': '45636', 'score': 82237.0, 'values': None, 'metadata': None},\n",
       "  {'id': '45581', 'score': 83770.0, 'values': None, 'metadata': None},\n",
       "  {'id': '27778', 'score': 87288.0, 'values': None, 'metadata': None},\n",
       "  {'id': '10811', 'score': 88821.0, 'values': None, 'metadata': None},\n",
       "  {'id': '96485', 'score': 88876.0, 'values': None, 'metadata': None}]}"
      ]
     },
     "execution_count": 10,
     "metadata": {},
     "output_type": "execute_result"
    }
   ],
   "source": [
    "index.query(top_k=10, id='45500', namespace=\"\")"
   ]
  },
  {
   "cell_type": "code",
   "execution_count": null,
   "id": "3ed68925-02d0-43eb-811e-99bd61f41a1a",
   "metadata": {},
   "outputs": [],
   "source": []
  }
 ],
 "metadata": {
  "kernelspec": {
   "display_name": "Python 3 (ipykernel)",
   "language": "python",
   "name": "python3"
  },
  "language_info": {
   "codemirror_mode": {
    "name": "ipython",
    "version": 3
   },
   "file_extension": ".py",
   "mimetype": "text/x-python",
   "name": "python",
   "nbconvert_exporter": "python",
   "pygments_lexer": "ipython3",
   "version": "3.11.6"
  }
 },
 "nbformat": 4,
 "nbformat_minor": 5
}
