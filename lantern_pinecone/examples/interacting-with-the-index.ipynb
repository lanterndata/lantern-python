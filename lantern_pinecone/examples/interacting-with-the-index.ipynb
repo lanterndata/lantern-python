{
 "cells": [
  {
   "attachments": {},
   "cell_type": "markdown",
   "id": "a3e6b1da",
   "metadata": {
    "id": "a3e6b1da"
   },
   "source": [
    "[![Open In Colab](https://colab.research.google.com/assets/colab-badge.svg)](https://colab.research.google.com/github/pinecone-io/examples/blob/master/docs/quick-tour/interacting-with-the-index.ipynb) [![Open nbviewer](https://raw.githubusercontent.com/pinecone-io/examples/master/assets/nbviewer-shield.svg)](https://nbviewer.org/github/pinecone-io/examples/blob/master/docs/quick-tour/interacting-with-the-index.ipynb)"
   ]
  },
  {
   "attachments": {},
   "cell_type": "markdown",
   "id": "forbidden-sunglasses",
   "metadata": {
    "id": "forbidden-sunglasses",
    "papermill": {
     "duration": 0.053663,
     "end_time": "2021-04-19T21:50:14.234513",
     "exception": false,
     "start_time": "2021-04-19T21:50:14.180850",
     "status": "completed"
    },
    "tags": []
   },
   "source": [
    "# Interacting with a Pinecone index\n",
    "\n",
    "Pinecone creates an index for your input vectors,\n",
    "and it lets you query their nearest neighbors.\n",
    "A Pinecone index supports the following operations:\n",
    "\n",
    "* `upsert`: insert data formatted as `(id, vector)` tuples into the index, or replace existing `(id, vector)` tuples with new vector values. Optionally, you can attach metadata for each vector so you can use them in the query by specifying conditions. The upserted vector will look like `(id, vector, metadata)`.\n",
    "* `delete`: delete vectors by id.\n",
    "* `query`: query the index and retrieve the top-k nearest neighbors based on dot-product, cosine-similarity, Euclidean distance, and more.\n",
    "* `fetch`: fetch vectors stored in the index by id.\n",
    "* `describe_index_stats`: get statistics about the index."
   ]
  },
  {
   "attachments": {},
   "cell_type": "markdown",
   "id": "quiet-signal",
   "metadata": {
    "id": "quiet-signal",
    "papermill": {
     "duration": 0.035514,
     "end_time": "2021-04-19T21:50:14.305493",
     "exception": false,
     "start_time": "2021-04-19T21:50:14.269979",
     "status": "completed"
    },
    "tags": []
   },
   "source": [
    "## Prerequisites"
   ]
  },
  {
   "attachments": {},
   "cell_type": "markdown",
   "id": "beautiful-paper",
   "metadata": {
    "id": "beautiful-paper",
    "papermill": {
     "duration": 0.032332,
     "end_time": "2021-04-19T21:50:14.372018",
     "exception": false,
     "start_time": "2021-04-19T21:50:14.339686",
     "status": "completed"
    },
    "tags": []
   },
   "source": [
    "Install dependencies."
   ]
  },
  {
   "cell_type": "code",
   "execution_count": 1,
   "id": "responsible-jamaica",
   "metadata": {
    "colab": {
     "base_uri": "https://localhost:8080/"
    },
    "id": "responsible-jamaica",
    "outputId": "a3d9127f-592f-43cb-c381-e60aa01954a2",
    "papermill": {
     "duration": 0.400441,
     "end_time": "2021-04-19T21:50:31.332818",
     "exception": false,
     "start_time": "2021-04-19T21:50:30.932377",
     "status": "completed"
    },
    "tags": []
   },
   "outputs": [],
   "source": [
    "import os\n",
    "import lantern_pinecone as pinecone\n",
    "\n",
    "LANTERN_DB_URL = os.environ.get('LANTERN_DB_URL') or 'postgres://postgres@localhost:5432'\n",
    "pinecone.init(LANTERN_DB_URL)"
   ]
  },
  {
   "attachments": {},
   "cell_type": "markdown",
   "id": "blocked-paradise",
   "metadata": {
    "id": "blocked-paradise",
    "papermill": {
     "duration": 0.042046,
     "end_time": "2021-04-19T21:50:32.078318",
     "exception": false,
     "start_time": "2021-04-19T21:50:32.036272",
     "status": "completed"
    },
    "tags": []
   },
   "source": [
    "## Creating the index"
   ]
  },
  {
   "cell_type": "code",
   "execution_count": 2,
   "id": "MjzMwddcyHM2",
   "metadata": {
    "id": "MjzMwddcyHM2",
    "tags": [
     "parameters"
    ]
   },
   "outputs": [],
   "source": [
    "index_name = \"interacting-with-the-index\""
   ]
  },
  {
   "cell_type": "code",
   "execution_count": 3,
   "id": "progressive-blues",
   "metadata": {
    "id": "progressive-blues",
    "papermill": {
     "duration": 29.494762,
     "end_time": "2021-04-19T21:51:01.610131",
     "exception": false,
     "start_time": "2021-04-19T21:50:32.115369",
     "status": "completed"
    },
    "tags": []
   },
   "outputs": [],
   "source": [
    "import time\n",
    "\n",
    "# Delete index if exists\n",
    "if index_name in pinecone.list_indexes():\n",
    "    pinecone.delete_index(index_name)\n",
    "\n",
    "# Create index\n",
    "pinecone.create_index(name=index_name, dimension=2, metric=\"euclidean\")\n",
    "\n",
    "# wait for index to be ready before connecting\n",
    "while not pinecone.describe_index(index_name).status['ready']:\n",
    "    time.sleep(1)\n",
    "\n",
    "# Connect to the index\n",
    "index = pinecone.Index(index_name=index_name)"
   ]
  },
  {
   "attachments": {},
   "cell_type": "markdown",
   "id": "billion-imperial",
   "metadata": {
    "id": "billion-imperial",
    "papermill": {
     "duration": 0.043379,
     "end_time": "2021-04-19T21:51:01.699928",
     "exception": false,
     "start_time": "2021-04-19T21:51:01.656549",
     "status": "completed"
    },
    "tags": []
   },
   "source": [
    "### Insert vectors\n"
   ]
  },
  {
   "cell_type": "code",
   "execution_count": 4,
   "id": "analyzed-charity",
   "metadata": {
    "colab": {
     "base_uri": "https://localhost:8080/",
     "height": 206
    },
    "id": "analyzed-charity",
    "outputId": "e6797ecc-f731-40e0-c4bf-a1bc409289dd",
    "papermill": {
     "duration": 0.249711,
     "end_time": "2021-04-19T21:51:01.989157",
     "exception": false,
     "start_time": "2021-04-19T21:51:01.739446",
     "status": "completed"
    },
    "tags": []
   },
   "outputs": [
    {
     "data": {
      "text/html": [
       "<div>\n",
       "<style scoped>\n",
       "    .dataframe tbody tr th:only-of-type {\n",
       "        vertical-align: middle;\n",
       "    }\n",
       "\n",
       "    .dataframe tbody tr th {\n",
       "        vertical-align: top;\n",
       "    }\n",
       "\n",
       "    .dataframe thead th {\n",
       "        text-align: right;\n",
       "    }\n",
       "</style>\n",
       "<table border=\"1\" class=\"dataframe\">\n",
       "  <thead>\n",
       "    <tr style=\"text-align: right;\">\n",
       "      <th></th>\n",
       "      <th>id</th>\n",
       "      <th>vector</th>\n",
       "    </tr>\n",
       "  </thead>\n",
       "  <tbody>\n",
       "    <tr>\n",
       "      <th>0</th>\n",
       "      <td>A</td>\n",
       "      <td>[1.0, 1.0]</td>\n",
       "    </tr>\n",
       "    <tr>\n",
       "      <th>1</th>\n",
       "      <td>B</td>\n",
       "      <td>[2.0, 2.0]</td>\n",
       "    </tr>\n",
       "    <tr>\n",
       "      <th>2</th>\n",
       "      <td>C</td>\n",
       "      <td>[3.0, 3.0]</td>\n",
       "    </tr>\n",
       "    <tr>\n",
       "      <th>3</th>\n",
       "      <td>D</td>\n",
       "      <td>[4.0, 4.0]</td>\n",
       "    </tr>\n",
       "    <tr>\n",
       "      <th>4</th>\n",
       "      <td>E</td>\n",
       "      <td>[5.0, 5.0]</td>\n",
       "    </tr>\n",
       "  </tbody>\n",
       "</table>\n",
       "</div>"
      ],
      "text/plain": [
       "  id      vector\n",
       "0  A  [1.0, 1.0]\n",
       "1  B  [2.0, 2.0]\n",
       "2  C  [3.0, 3.0]\n",
       "3  D  [4.0, 4.0]\n",
       "4  E  [5.0, 5.0]"
      ]
     },
     "execution_count": 4,
     "metadata": {},
     "output_type": "execute_result"
    }
   ],
   "source": [
    "# Generate some data\n",
    "import pandas as pd\n",
    "\n",
    "df = pd.DataFrame()\n",
    "df[\"id\"] = [\"A\", \"B\", \"C\", \"D\", \"E\"]\n",
    "df[\"vector\"] = [[1., 1.], [2., 2.], [3., 3.], [4., 4.], [5., 5.]]\n",
    "df"
   ]
  },
  {
   "attachments": {},
   "cell_type": "markdown",
   "id": "e3c126d0",
   "metadata": {
    "id": "e3c126d0",
    "papermill": {
     "duration": 0.045865,
     "end_time": "2021-04-19T21:51:02.074280",
     "exception": false,
     "start_time": "2021-04-19T21:51:02.028415",
     "status": "completed"
    },
    "tags": []
   },
   "source": [
    "We perform upsert operations in our index. This call will insert a new vector in the index or update the vector if the id was already present."
   ]
  },
  {
   "cell_type": "code",
   "execution_count": 5,
   "id": "checked-christopher",
   "metadata": {
    "colab": {
     "base_uri": "https://localhost:8080/"
    },
    "id": "checked-christopher",
    "outputId": "2cc949ae-20d5-49e9-e1f5-edc7f6196ecb",
    "papermill": {
     "duration": 0.489967,
     "end_time": "2021-04-19T21:51:02.616195",
     "exception": false,
     "start_time": "2021-04-19T21:51:02.126228",
     "status": "completed"
    },
    "tags": []
   },
   "outputs": [
    {
     "data": {
      "text/plain": [
       "2"
      ]
     },
     "execution_count": 5,
     "metadata": {},
     "output_type": "execute_result"
    }
   ],
   "source": [
    "# Upsert the vectors\n",
    "AB_df = df[:2]\n",
    "index.upsert(vectors=zip(AB_df.id, AB_df.vector))"
   ]
  },
  {
   "attachments": {},
   "cell_type": "markdown",
   "id": "psychological-estate",
   "metadata": {
    "id": "psychological-estate",
    "papermill": {
     "duration": 0.041408,
     "end_time": "2021-04-19T21:51:02.709492",
     "exception": false,
     "start_time": "2021-04-19T21:51:02.668084",
     "status": "completed"
    },
    "tags": []
   },
   "source": [
    "### Fetch vectors"
   ]
  },
  {
   "cell_type": "code",
   "execution_count": 6,
   "id": "varied-scene",
   "metadata": {
    "colab": {
     "base_uri": "https://localhost:8080/"
    },
    "id": "varied-scene",
    "outputId": "8ab7b5af-dcc9-4da2-df38-83fc147fe3ce",
    "papermill": {
     "duration": 0.160346,
     "end_time": "2021-04-19T21:51:02.911383",
     "exception": false,
     "start_time": "2021-04-19T21:51:02.751037",
     "status": "completed"
    },
    "tags": []
   },
   "outputs": [
    {
     "data": {
      "text/plain": [
       "{'namespace': '',\n",
       " 'vectors': {'A': {'id': 'A', 'metadata': {}, 'values': [1.0, 1.0]},\n",
       "  'B': {'id': 'B', 'metadata': {}, 'values': [2.0, 2.0]}}}"
      ]
     },
     "execution_count": 6,
     "metadata": {},
     "output_type": "execute_result"
    }
   ],
   "source": [
    "# Fetch vectors by ID\n",
    "fetch_results = index.fetch(ids=[\"A\", \"B\"])\n",
    "fetch_results"
   ]
  },
  {
   "attachments": {},
   "cell_type": "markdown",
   "id": "frank-participation",
   "metadata": {
    "id": "frank-participation",
    "papermill": {
     "duration": 0.040162,
     "end_time": "2021-04-19T21:51:02.997106",
     "exception": false,
     "start_time": "2021-04-19T21:51:02.956944",
     "status": "completed"
    },
    "tags": []
   },
   "source": [
    "### Query top-k vectors"
   ]
  },
  {
   "cell_type": "code",
   "execution_count": 7,
   "id": "dried-demographic",
   "metadata": {
    "colab": {
     "base_uri": "https://localhost:8080/"
    },
    "id": "dried-demographic",
    "outputId": "9a2c2cac-c4b7-4883-c20c-92bd33121096",
    "papermill": {
     "duration": 0.164285,
     "end_time": "2021-04-19T21:51:03.202342",
     "exception": false,
     "start_time": "2021-04-19T21:51:03.038057",
     "status": "completed"
    },
    "tags": []
   },
   "outputs": [
    {
     "data": {
      "text/plain": [
       "{'namespace': '',\n",
       " 'matches': [{'id': 'A', 'score': 0.020000009, 'values': [], 'metadata': {}},\n",
       "  {'id': 'B', 'score': 1.6199999, 'values': [], 'metadata': {}}]}"
      ]
     },
     "execution_count": 7,
     "metadata": {},
     "output_type": "execute_result"
    }
   ],
   "source": [
    "# Query top-k nearest neighbors\n",
    "query_results = index.query([1.1, 1.1], top_k=2)\n",
    "query_results"
   ]
  },
  {
   "attachments": {},
   "cell_type": "markdown",
   "id": "binary-drama",
   "metadata": {
    "id": "binary-drama",
    "papermill": {
     "duration": 0.041674,
     "end_time": "2021-04-19T21:51:03.292154",
     "exception": false,
     "start_time": "2021-04-19T21:51:03.250480",
     "status": "completed"
    },
    "tags": []
   },
   "source": [
    "### Update vectors by ID"
   ]
  },
  {
   "cell_type": "code",
   "execution_count": 8,
   "id": "generic-witness",
   "metadata": {
    "colab": {
     "base_uri": "https://localhost:8080/"
    },
    "id": "generic-witness",
    "outputId": "c9e0aa85-be77-4a71-833e-87b875962a25",
    "papermill": {
     "duration": 0.150867,
     "end_time": "2021-04-19T21:51:03.484308",
     "exception": false,
     "start_time": "2021-04-19T21:51:03.333441",
     "status": "completed"
    },
    "tags": []
   },
   "outputs": [
    {
     "data": {
      "text/plain": [
       "{'namespace': '',\n",
       " 'vectors': {'A': {'id': 'A', 'metadata': {}, 'values': [1.0, 1.0]}}}"
      ]
     },
     "execution_count": 8,
     "metadata": {},
     "output_type": "execute_result"
    }
   ],
   "source": [
    "# Fetch current vectors by ID\n",
    "fetch_result = index.fetch(ids=[\"A\"])\n",
    "fetch_result"
   ]
  },
  {
   "cell_type": "code",
   "execution_count": 9,
   "id": "comic-rwanda",
   "metadata": {
    "colab": {
     "base_uri": "https://localhost:8080/"
    },
    "id": "comic-rwanda",
    "outputId": "0c2a09c9-4ce8-4a21-81da-448d1aae20fc",
    "papermill": {
     "duration": 0.148497,
     "end_time": "2021-04-19T21:51:03.683025",
     "exception": false,
     "start_time": "2021-04-19T21:51:03.534528",
     "status": "completed"
    },
    "tags": []
   },
   "outputs": [
    {
     "data": {
      "text/plain": [
       "1"
      ]
     },
     "execution_count": 9,
     "metadata": {},
     "output_type": "execute_result"
    }
   ],
   "source": [
    "# Update vectors by ID\n",
    "index.upsert(vectors=[(\"A\",[0., 0.])])"
   ]
  },
  {
   "cell_type": "code",
   "execution_count": 10,
   "id": "gentle-messenger",
   "metadata": {
    "colab": {
     "base_uri": "https://localhost:8080/"
    },
    "id": "gentle-messenger",
    "outputId": "0b4c6184-45bb-41ff-fadd-eef7074023f0",
    "papermill": {
     "duration": 0.161304,
     "end_time": "2021-04-19T21:51:03.892409",
     "exception": false,
     "start_time": "2021-04-19T21:51:03.731105",
     "status": "completed"
    },
    "tags": []
   },
   "outputs": [
    {
     "data": {
      "text/plain": [
       "{'namespace': '',\n",
       " 'vectors': {'A': {'id': 'A', 'metadata': {}, 'values': [1.0, 1.0]}}}"
      ]
     },
     "execution_count": 10,
     "metadata": {},
     "output_type": "execute_result"
    }
   ],
   "source": [
    "# Fetch vector by the same ID again\n",
    "fetch_result = index.fetch(ids=[\"A\"])\n",
    "fetch_result"
   ]
  },
  {
   "attachments": {},
   "cell_type": "markdown",
   "id": "manual-format",
   "metadata": {
    "id": "manual-format",
    "papermill": {
     "duration": 0.04065,
     "end_time": "2021-04-19T21:51:03.983746",
     "exception": false,
     "start_time": "2021-04-19T21:51:03.943096",
     "status": "completed"
    },
    "tags": []
   },
   "source": [
    "### Delete vectors by ID"
   ]
  },
  {
   "cell_type": "code",
   "execution_count": 11,
   "id": "hispanic-talent",
   "metadata": {
    "colab": {
     "base_uri": "https://localhost:8080/"
    },
    "id": "hispanic-talent",
    "outputId": "370409af-beae-4d47-91ab-beaadb10041b",
    "papermill": {
     "duration": 0.14878,
     "end_time": "2021-04-19T21:51:04.172749",
     "exception": false,
     "start_time": "2021-04-19T21:51:04.023969",
     "status": "completed"
    },
    "tags": []
   },
   "outputs": [],
   "source": [
    "# Delete vectors by ID\n",
    "index.delete(ids=[\"A\"])"
   ]
  },
  {
   "cell_type": "code",
   "execution_count": 12,
   "id": "romantic-dubai",
   "metadata": {
    "colab": {
     "base_uri": "https://localhost:8080/"
    },
    "id": "romantic-dubai",
    "outputId": "3fa24e74-24fa-4009-c406-791e85451c9d",
    "papermill": {
     "duration": 0.161047,
     "end_time": "2021-04-19T21:51:04.380132",
     "exception": false,
     "start_time": "2021-04-19T21:51:04.219085",
     "status": "completed"
    },
    "tags": []
   },
   "outputs": [
    {
     "data": {
      "text/plain": [
       "{'namespace': '',\n",
       " 'vectors': {'B': {'id': 'B', 'metadata': {}, 'values': [2.0, 2.0]}}}"
      ]
     },
     "execution_count": 12,
     "metadata": {},
     "output_type": "execute_result"
    }
   ],
   "source": [
    "# Deleted vectors are empty\n",
    "fetch_results = index.fetch(ids=[\"A\", \"B\"])\n",
    "fetch_results"
   ]
  },
  {
   "attachments": {},
   "cell_type": "markdown",
   "id": "balanced-intellectual",
   "metadata": {
    "id": "balanced-intellectual",
    "papermill": {
     "duration": 0.044809,
     "end_time": "2021-04-19T21:51:04.471991",
     "exception": false,
     "start_time": "2021-04-19T21:51:04.427182",
     "status": "completed"
    },
    "tags": []
   },
   "source": [
    "### Get index statistics"
   ]
  },
  {
   "cell_type": "code",
   "execution_count": 13,
   "id": "nonprofit-popularity",
   "metadata": {
    "colab": {
     "base_uri": "https://localhost:8080/"
    },
    "id": "nonprofit-popularity",
    "outputId": "2887c3e9-1820-4e40-9869-80500295bdf7",
    "papermill": {
     "duration": 0.154298,
     "end_time": "2021-04-19T21:51:04.672703",
     "exception": false,
     "start_time": "2021-04-19T21:51:04.518405",
     "status": "completed"
    },
    "tags": []
   },
   "outputs": [
    {
     "data": {
      "text/plain": [
       "{'dimensions': 2,\n",
       " 'index_fullness': 1.0,\n",
       " 'total_count': 1,\n",
       " 'namespaces': {'': {'vector_count': 1}}}"
      ]
     },
     "execution_count": 13,
     "metadata": {},
     "output_type": "execute_result"
    }
   ],
   "source": [
    "# Index statistics\n",
    "index.describe_index_stats()"
   ]
  },
  {
   "attachments": {},
   "cell_type": "markdown",
   "id": "directed-keyboard",
   "metadata": {
    "id": "directed-keyboard",
    "papermill": {
     "duration": 0.043493,
     "end_time": "2021-04-19T21:51:04.764495",
     "exception": false,
     "start_time": "2021-04-19T21:51:04.721002",
     "status": "completed"
    },
    "tags": []
   },
   "source": [
    "### Delete the index"
   ]
  },
  {
   "cell_type": "code",
   "execution_count": 14,
   "id": "supported-casino",
   "metadata": {
    "id": "supported-casino",
    "papermill": {
     "duration": 12.691337,
     "end_time": "2021-04-19T21:51:17.501135",
     "exception": false,
     "start_time": "2021-04-19T21:51:04.809798",
     "status": "completed"
    },
    "tags": []
   },
   "outputs": [],
   "source": [
    "# delete the index\n",
    "pinecone.delete_index(index_name)"
   ]
  }
 ],
 "metadata": {
  "colab": {
   "provenance": []
  },
  "kernelspec": {
   "display_name": "Python 3 (ipykernel)",
   "language": "python",
   "name": "python3"
  },
  "language_info": {
   "codemirror_mode": {
    "name": "ipython",
    "version": 3
   },
   "file_extension": ".py",
   "mimetype": "text/x-python",
   "name": "python",
   "nbconvert_exporter": "python",
   "pygments_lexer": "ipython3",
   "version": "3.11.5"
  },
  "papermill": {
   "default_parameters": {},
   "duration": 64.825822,
   "end_time": "2021-04-19T21:51:18.073345",
   "environment_variables": {},
   "exception": null,
   "input_path": "/notebooks/quick_tour/interacting_with_the_index.ipynb",
   "output_path": "/notebooks/tmp/quick_tour/interacting_with_the_index.ipynb",
   "parameters": {},
   "start_time": "2021-04-19T21:50:13.247523",
   "version": "2.3.3"
  }
 },
 "nbformat": 4,
 "nbformat_minor": 5
}
